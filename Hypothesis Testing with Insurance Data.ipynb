{
 "cells": [
  {
   "cell_type": "markdown",
   "id": "f3d5df49",
   "metadata": {},
   "source": [
    "# Import Packages / Load Data"
   ]
  },
  {
   "cell_type": "code",
   "execution_count": 30,
   "id": "5a234a8a",
   "metadata": {},
   "outputs": [],
   "source": [
    "# Imports\n",
    "import pandas as pd\n",
    "import numpy as np\n",
    "import regex as re\n",
    "import json,os\n",
    "import matplotlib.pyplot as plt\n",
    "from matplotlib.ticker import FuncFormatter\n",
    "import seaborn as sns\n",
    "import scipy.stats as stats"
   ]
  },
  {
   "cell_type": "code",
   "execution_count": 31,
   "id": "f58e3838",
   "metadata": {},
   "outputs": [
    {
     "data": {
      "text/html": [
       "<div>\n",
       "<style scoped>\n",
       "    .dataframe tbody tr th:only-of-type {\n",
       "        vertical-align: middle;\n",
       "    }\n",
       "\n",
       "    .dataframe tbody tr th {\n",
       "        vertical-align: top;\n",
       "    }\n",
       "\n",
       "    .dataframe thead th {\n",
       "        text-align: right;\n",
       "    }\n",
       "</style>\n",
       "<table border=\"1\" class=\"dataframe\">\n",
       "  <thead>\n",
       "    <tr style=\"text-align: right;\">\n",
       "      <th></th>\n",
       "      <th>age</th>\n",
       "      <th>sex</th>\n",
       "      <th>bmi</th>\n",
       "      <th>children</th>\n",
       "      <th>smoker</th>\n",
       "      <th>region</th>\n",
       "      <th>charges</th>\n",
       "    </tr>\n",
       "  </thead>\n",
       "  <tbody>\n",
       "    <tr>\n",
       "      <th>0</th>\n",
       "      <td>19</td>\n",
       "      <td>female</td>\n",
       "      <td>27.900</td>\n",
       "      <td>0</td>\n",
       "      <td>yes</td>\n",
       "      <td>southwest</td>\n",
       "      <td>16884.92400</td>\n",
       "    </tr>\n",
       "    <tr>\n",
       "      <th>1</th>\n",
       "      <td>18</td>\n",
       "      <td>male</td>\n",
       "      <td>33.770</td>\n",
       "      <td>1</td>\n",
       "      <td>no</td>\n",
       "      <td>southeast</td>\n",
       "      <td>1725.55230</td>\n",
       "    </tr>\n",
       "    <tr>\n",
       "      <th>2</th>\n",
       "      <td>28</td>\n",
       "      <td>male</td>\n",
       "      <td>33.000</td>\n",
       "      <td>3</td>\n",
       "      <td>no</td>\n",
       "      <td>southeast</td>\n",
       "      <td>4449.46200</td>\n",
       "    </tr>\n",
       "    <tr>\n",
       "      <th>3</th>\n",
       "      <td>33</td>\n",
       "      <td>male</td>\n",
       "      <td>22.705</td>\n",
       "      <td>0</td>\n",
       "      <td>no</td>\n",
       "      <td>northwest</td>\n",
       "      <td>21984.47061</td>\n",
       "    </tr>\n",
       "    <tr>\n",
       "      <th>4</th>\n",
       "      <td>32</td>\n",
       "      <td>male</td>\n",
       "      <td>28.880</td>\n",
       "      <td>0</td>\n",
       "      <td>no</td>\n",
       "      <td>northwest</td>\n",
       "      <td>3866.85520</td>\n",
       "    </tr>\n",
       "  </tbody>\n",
       "</table>\n",
       "</div>"
      ],
      "text/plain": [
       "   age     sex     bmi  children smoker     region      charges\n",
       "0   19  female  27.900         0    yes  southwest  16884.92400\n",
       "1   18    male  33.770         1     no  southeast   1725.55230\n",
       "2   28    male  33.000         3     no  southeast   4449.46200\n",
       "3   33    male  22.705         0     no  northwest  21984.47061\n",
       "4   32    male  28.880         0     no  northwest   3866.85520"
      ]
     },
     "execution_count": 31,
     "metadata": {},
     "output_type": "execute_result"
    }
   ],
   "source": [
    "# Load the data\n",
    "df=pd.read_csv('https://docs.google.com/spreadsheets/d/e/2PACX-1vQBN8DPW2rdiRrY34eEM53HAzakNGSRrw4ogI-j8HyCUrbqTB_z4CeIn2IvjLF-w_6sOe5pIlypJGAA/pub?output=csv')\n",
    "df.head()"
   ]
  },
  {
   "cell_type": "code",
   "execution_count": 32,
   "id": "bd86949c",
   "metadata": {},
   "outputs": [
    {
     "name": "stdout",
     "output_type": "stream",
     "text": [
      "<class 'pandas.core.frame.DataFrame'>\n",
      "RangeIndex: 1338 entries, 0 to 1337\n",
      "Data columns (total 7 columns):\n",
      " #   Column    Non-Null Count  Dtype  \n",
      "---  ------    --------------  -----  \n",
      " 0   age       1338 non-null   int64  \n",
      " 1   sex       1338 non-null   object \n",
      " 2   bmi       1338 non-null   float64\n",
      " 3   children  1338 non-null   int64  \n",
      " 4   smoker    1338 non-null   object \n",
      " 5   region    1338 non-null   object \n",
      " 6   charges   1338 non-null   float64\n",
      "dtypes: float64(2), int64(2), object(3)\n",
      "memory usage: 73.3+ KB\n"
     ]
    }
   ],
   "source": [
    "df.info()"
   ]
  },
  {
   "cell_type": "markdown",
   "id": "15abf752",
   "metadata": {},
   "source": [
    "Q1. Do smokers have higher insurance charges than non-smokers?\n",
    "\n",
    "Q2. Are men more likely to smoke than women?\n",
    "\n",
    "Q3. Do different regions have different charges, on average?"
   ]
  },
  {
   "cell_type": "markdown",
   "id": "763a1207",
   "metadata": {},
   "source": [
    "# Do smokers have higher insurance charges than non-smokers?"
   ]
  },
  {
   "cell_type": "markdown",
   "id": "3cd18ec3",
   "metadata": {},
   "source": [
    "Null Hypothesis: There is no significant difference in rates for smokers compared to non-smnokers.\n",
    "\n",
    "Alternative Hypothesis: Rate for smokers is significantly different than non-smokers.\n",
    "\n",
    "Siginificance Level: alpha = (.05)"
   ]
  },
  {
   "cell_type": "code",
   "execution_count": 33,
   "id": "858f63a3",
   "metadata": {},
   "outputs": [
    {
     "data": {
      "text/plain": [
       "no     1064\n",
       "yes     274\n",
       "Name: smoker, dtype: int64"
      ]
     },
     "execution_count": 33,
     "metadata": {},
     "output_type": "execute_result"
    }
   ],
   "source": [
    "df['smoker'].value_counts()\n"
   ]
  },
  {
   "cell_type": "code",
   "execution_count": 34,
   "id": "23818cc1",
   "metadata": {},
   "outputs": [],
   "source": [
    "df_smoker = df.loc[df['smoker']=='yes']\n",
    "df_smoker_non = df.loc[df['smoker']=='no']"
   ]
  },
  {
   "cell_type": "markdown",
   "id": "8593be7d",
   "metadata": {},
   "source": [
    "# Visualize and Seperate Groups"
   ]
  },
  {
   "cell_type": "code",
   "execution_count": 35,
   "id": "38bf62d6",
   "metadata": {},
   "outputs": [
    {
     "data": {
      "image/png": "[encoded data removed]",
      "text/plain": [
       "<Figure size 1080x576 with 2 Axes>"
      ]
     },
     "metadata": {
      "needs_background": "light"
     },
     "output_type": "display_data"
    }
   ],
   "source": [
    "fig, (ax,ax2) = plt.subplots(figsize= (15,8),ncols=2,constrained_layout=True,\n",
    "                            gridspec_kw={'width_ratios':[0.8,0.2]})\n",
    "sns.histplot(data=df, x='charges',hue='smoker',kde=True,common_norm=False\n",
    "                  ,stat='density',alpha=.5,hue_order=['yes','no'],ax=ax)\n",
    "sns.barplot(data=df, x='smoker',y='charges',ax = ax2,hue='smoker',hue_order=['yes','no'],alpha=.7) \n",
    "\n",
    "ax.axvline(df_smoker['charges'].mean(), ls='--',lw=3, \n",
    "           label=f\"True (Mean={df_smoker['charges'].mean():.2f})\",color='blue')\n",
    "\n",
    "ax.axvline(df_smoker_non['charges'].mean(), ls='--', lw=3, \n",
    "           label=f\"False (Mean={df_smoker_non['charges'].mean():.2f})\",color='orange')\n",
    "\n",
    "ax.legend(prop={\"size\":14}, loc='upper right')\n",
    "fig.suptitle('Insurance Rates by feature smoker',fontsize='xx-large');"
   ]
  },
  {
   "cell_type": "markdown",
   "id": "1fcd9358",
   "metadata": {},
   "source": [
    "T-Test\n",
    "\n",
    "-Since we are comparing a numeric measurement between 2 groups, we want to run a 2-sample (AKA independent T-test).\n",
    "    \n",
    "    -No significant outliers\n",
    "        \n",
    "        -absolute value of zscore > 3\n",
    "\n",
    "-Normality\n",
    "\n",
    "-Equal Variance"
   ]
  },
  {
   "cell_type": "markdown",
   "id": "b6ecbe3e",
   "metadata": {},
   "source": [
    "No Significant outliers"
   ]
  },
  {
   "cell_type": "code",
   "execution_count": 36,
   "id": "be7c65a1",
   "metadata": {},
   "outputs": [
    {
     "data": {
      "text/plain": [
       "0"
      ]
     },
     "execution_count": 36,
     "metadata": {},
     "output_type": "execute_result"
    }
   ],
   "source": [
    "# check for charge outliers by smoker for abs(zscore) > 3\n",
    "idx_outliers = np.abs(stats.zscore(df_smoker['charges'])) > 3\n",
    "idx_outliers.sum()"
   ]
  },
  {
   "cell_type": "code",
   "execution_count": 37,
   "id": "4d86c872",
   "metadata": {},
   "outputs": [
    {
     "data": {
      "text/plain": [
       "24"
      ]
     },
     "execution_count": 37,
     "metadata": {},
     "output_type": "execute_result"
    }
   ],
   "source": [
    "# check for charge outliers by smoker for abs(zscore) > 3\n",
    "idx_outliers = np.abs(stats.zscore(df_smoker_non['charges'])) > 3\n",
    "idx_outliers.sum()"
   ]
  },
  {
   "cell_type": "markdown",
   "id": "781887dc",
   "metadata": {},
   "source": [
    "Non-smoker has 24 outliers to remove"
   ]
  },
  {
   "cell_type": "code",
   "execution_count": 38,
   "id": "a0b7af15",
   "metadata": {},
   "outputs": [
    {
     "data": {
      "text/plain": [
       "(1064, 7)"
      ]
     },
     "metadata": {},
     "output_type": "display_data"
    },
    {
     "data": {
      "text/plain": [
       "(1040, 7)"
      ]
     },
     "metadata": {},
     "output_type": "display_data"
    }
   ],
   "source": [
    "#remove outliers\n",
    "display(df_smoker_non.shape)\n",
    "df_smoker_non = df_smoker_non[(np.abs(stats.zscore(df_smoker_non['charges'])) < 3)]\n",
    "display(df_smoker_non.shape)"
   ]
  },
  {
   "cell_type": "markdown",
   "id": "c28b9aff",
   "metadata": {},
   "source": [
    "# Check Normality for each group"
   ]
  },
  {
   "cell_type": "code",
   "execution_count": 39,
   "id": "bba520a7",
   "metadata": {},
   "outputs": [
    {
     "data": {
      "text/plain": [
       "NormaltestResult(statistic=61.03941356533816, pvalue=5.564930630036463e-14)"
      ]
     },
     "execution_count": 39,
     "metadata": {},
     "output_type": "execute_result"
    }
   ],
   "source": [
    "# test Smokers normality\n",
    "result_smoker = stats.normaltest(df_smoker['charges'])\n",
    "result_smoker"
   ]
  },
  {
   "cell_type": "code",
   "execution_count": 40,
   "id": "2ecd1aca",
   "metadata": {},
   "outputs": [
    {
     "data": {
      "text/plain": [
       "NormaltestResult(statistic=163.80367047789198, pvalue=2.6945416315543976e-36)"
      ]
     },
     "execution_count": 40,
     "metadata": {},
     "output_type": "execute_result"
    }
   ],
   "source": [
    "# test Smokers normality\n",
    "result_smoker_non = stats.normaltest(df_smoker_non['charges'])\n",
    "result_smoker_non"
   ]
  },
  {
   "cell_type": "markdown",
   "id": "19e1f83b",
   "metadata": {},
   "source": [
    "P values for both groups well below alpha of .05; data is not normally distributed. Both sample sizes are above 15 per group so can move forward"
   ]
  },
  {
   "cell_type": "markdown",
   "id": "383b54c9",
   "metadata": {},
   "source": [
    "# Check for Equal Variance"
   ]
  },
  {
   "cell_type": "code",
   "execution_count": 41,
   "id": "30d31a69",
   "metadata": {},
   "outputs": [
    {
     "data": {
      "text/plain": [
       "LeveneResult(statistic=520.7468821724297, pvalue=2.4247238784347824e-97)"
      ]
     },
     "execution_count": 41,
     "metadata": {},
     "output_type": "execute_result"
    }
   ],
   "source": [
    "## use Levene's test to check if groups have equal variance\n",
    "stats.levene(df_smoker['charges'],df_smoker_non['charges'])"
   ]
  },
  {
   "cell_type": "markdown",
   "id": "b17f3354",
   "metadata": {},
   "source": [
    "P value well below .05. Do not have equal variances. need to set \"equal_var = False\" when we perform our t-test."
   ]
  },
  {
   "cell_type": "markdown",
   "id": "155c0e1c",
   "metadata": {},
   "source": [
    "# Perform and evaluate the t-test"
   ]
  },
  {
   "cell_type": "code",
   "execution_count": 42,
   "id": "9e7a8747",
   "metadata": {},
   "outputs": [
    {
     "data": {
      "text/plain": [
       "Ttest_indResult(statistic=33.732305987092516, pvalue=2.575322662587431e-104)"
      ]
     },
     "execution_count": 42,
     "metadata": {},
     "output_type": "execute_result"
    }
   ],
   "source": [
    "# Independent t-test with equal_var set to False\n",
    "result = stats.ttest_ind(df_smoker['charges'], df_smoker_non['charges'], equal_var = False)\n",
    "result"
   ]
  },
  {
   "cell_type": "markdown",
   "id": "41f2012b",
   "metadata": {},
   "source": [
    "P value < alpha (0.05), reject the null hypothesis and accept that there is a significant difference between insurance rates for smokers vs non-smokers"
   ]
  },
  {
   "cell_type": "markdown",
   "id": "739c10c8",
   "metadata": {},
   "source": [
    "# For Insurance carriers, are men more likely to smoke than women?"
   ]
  },
  {
   "cell_type": "markdown",
   "id": "a9c8aab5",
   "metadata": {},
   "source": [
    "Null Hypothesis: For insurance carriers, there is no relationship between sex and if carrier smokes.\n",
    "\n",
    "Alternative Hypothesis: Carriers sex has influence on if carrier smokes.\n",
    "\n",
    "Siginificance Level: alpha = (.05)"
   ]
  },
  {
   "cell_type": "markdown",
   "id": "8c144648",
   "metadata": {},
   "source": [
    "# Visualize and Seperate Groups"
   ]
  },
  {
   "cell_type": "code",
   "execution_count": 43,
   "id": "17d23492",
   "metadata": {},
   "outputs": [],
   "source": [
    "def human_format(num, pos):\n",
    "    magnitude = 0\n",
    "    while abs(num) >= 1000:\n",
    "        magnitude += 1\n",
    "        num /= 1000.0\n",
    "    # add more suffixes if you need them\n",
    "    return '%.0f%s' % (num, ['', 'K', 'M', 'B', 'T', 'P'][magnitude])\n",
    "formatter = FuncFormatter(human_format)"
   ]
  },
  {
   "cell_type": "code",
   "execution_count": 44,
   "id": "b556a57d",
   "metadata": {},
   "outputs": [
    {
     "data": {
      "image/png": "[encoded data removed]",
      "text/plain": [
       "<Figure size 432x288 with 1 Axes>"
      ]
     },
     "metadata": {
      "needs_background": "light"
     },
     "output_type": "display_data"
    }
   ],
   "source": [
    "ax = sns.countplot(data=df, x='sex',hue='smoker')\n",
    "ax.set_title(\"Smokers by Sex\")\n",
    "for container in ax.containers:\n",
    "    labels = [  f'{human_format(x,1)}' for x in container.datavalues ]\n",
    "    ax.bar_label(container,labels=labels)"
   ]
  },
  {
   "cell_type": "markdown",
   "id": "303da2d1",
   "metadata": {},
   "source": [
    "# Chi-Squared"
   ]
  },
  {
   "cell_type": "markdown",
   "id": "605343f5",
   "metadata": {},
   "source": [
    "For comparing a binary target category vs categorical groups.\n",
    "\n",
    "    -Put data from Smokers by sex into contingency table"
   ]
  },
  {
   "cell_type": "code",
   "execution_count": 45,
   "id": "587279a1",
   "metadata": {},
   "outputs": [
    {
     "data": {
      "text/html": [
       "<div>\n",
       "<style scoped>\n",
       "    .dataframe tbody tr th:only-of-type {\n",
       "        vertical-align: middle;\n",
       "    }\n",
       "\n",
       "    .dataframe tbody tr th {\n",
       "        vertical-align: top;\n",
       "    }\n",
       "\n",
       "    .dataframe thead th {\n",
       "        text-align: right;\n",
       "    }\n",
       "</style>\n",
       "<table border=\"1\" class=\"dataframe\">\n",
       "  <thead>\n",
       "    <tr style=\"text-align: right;\">\n",
       "      <th>smoker</th>\n",
       "      <th>no</th>\n",
       "      <th>yes</th>\n",
       "    </tr>\n",
       "    <tr>\n",
       "      <th>sex</th>\n",
       "      <th></th>\n",
       "      <th></th>\n",
       "    </tr>\n",
       "  </thead>\n",
       "  <tbody>\n",
       "    <tr>\n",
       "      <th>female</th>\n",
       "      <td>547</td>\n",
       "      <td>115</td>\n",
       "    </tr>\n",
       "    <tr>\n",
       "      <th>male</th>\n",
       "      <td>517</td>\n",
       "      <td>159</td>\n",
       "    </tr>\n",
       "  </tbody>\n",
       "</table>\n",
       "</div>"
      ],
      "text/plain": [
       "smoker   no  yes\n",
       "sex             \n",
       "female  547  115\n",
       "male    517  159"
      ]
     },
     "execution_count": 45,
     "metadata": {},
     "output_type": "execute_result"
    }
   ],
   "source": [
    "table = pd.crosstab(df['sex'], df['smoker'])\n",
    "table"
   ]
  },
  {
   "cell_type": "code",
   "execution_count": 46,
   "id": "e5fe47ae",
   "metadata": {},
   "outputs": [],
   "source": [
    "# Run the Test and Save the Output\n",
    "result = stats.chi2_contingency(table)\n",
    "chi2, p, deg_free, expected_vals = result #this labels the results"
   ]
  },
  {
   "cell_type": "code",
   "execution_count": 47,
   "id": "f2fe17ab",
   "metadata": {},
   "outputs": [
    {
     "name": "stdout",
     "output_type": "stream",
     "text": [
      "0.006548143503580696\n"
     ]
    },
    {
     "data": {
      "text/plain": [
       "True"
      ]
     },
     "execution_count": 47,
     "metadata": {},
     "output_type": "execute_result"
    }
   ],
   "source": [
    "# What was our p-value?\n",
    "print(p)\n",
    "p<.05"
   ]
  },
  {
   "cell_type": "markdown",
   "id": "1b162bf9",
   "metadata": {},
   "source": [
    "P value for chi-squared <.05 reject null hypothesis. There is no relationship between sex and if insurance carrier is a smoker"
   ]
  },
  {
   "cell_type": "markdown",
   "id": "571a9f7d",
   "metadata": {},
   "source": [
    "# Do different regions have different charges, on average?"
   ]
  },
  {
   "cell_type": "markdown",
   "id": "2d9ea5fe",
   "metadata": {},
   "source": [
    "Null Hypothesis: There is no statistical difference in mean rate between regions.\n",
    "\n",
    "Alternative Hypothesis: Statistically, region has influence on mean rates.\n",
    "\n",
    "Siginificance Level: alpha = (.05)"
   ]
  },
  {
   "cell_type": "code",
   "execution_count": 48,
   "id": "0a61d48f",
   "metadata": {},
   "outputs": [
    {
     "data": {
      "text/plain": [
       "region\n",
       "northeast    13406.384516\n",
       "northwest    12417.575374\n",
       "southeast    14735.411438\n",
       "southwest    12346.937377\n",
       "Name: charges, dtype: float64"
      ]
     },
     "execution_count": 48,
     "metadata": {},
     "output_type": "execute_result"
    }
   ],
   "source": [
    "df.groupby('region')['charges'].mean()"
   ]
  },
  {
   "cell_type": "code",
   "execution_count": 49,
   "id": "8c9c91f1",
   "metadata": {},
   "outputs": [
    {
     "data": {
      "image/png": "[encoded data removed]",
      "text/plain": [
       "<Figure size 432x288 with 1 Axes>"
      ]
     },
     "metadata": {
      "needs_background": "light"
     },
     "output_type": "display_data"
    }
   ],
   "source": [
    "sns.barplot(data=df, x='region',y='charges',hue='region',alpha=.7 )\n",
    "plt.legend(loc='lower right',bbox_to_anchor=(1.35,.5),borderaxespad=0)\n",
    "plt.title(\"Insurance rates by region\");"
   ]
  },
  {
   "cell_type": "markdown",
   "id": "8882caed",
   "metadata": {},
   "source": [
    "# Analysis of Variance (ANOVA)"
   ]
  },
  {
   "cell_type": "code",
   "execution_count": 50,
   "id": "300ab9ef",
   "metadata": {},
   "outputs": [
    {
     "data": {
      "text/plain": [
       "dict_keys(['southwest', 'southeast', 'northwest', 'northeast'])"
      ]
     },
     "execution_count": 50,
     "metadata": {},
     "output_type": "execute_result"
    }
   ],
   "source": [
    "## Create groups dictionary.\n",
    "groups = {}\n",
    "## Loop through all unique categories\n",
    "for i in df['region'].unique():\n",
    "    ## Get series for group and rename\n",
    "    data = df.loc[df['region']==i,'charges'].copy()\n",
    "    \n",
    "    # save into the dictionary\n",
    "    groups[i] = data\n",
    "groups.keys()"
   ]
  },
  {
   "cell_type": "markdown",
   "id": "fbaaf663",
   "metadata": {},
   "source": [
    "# Assumption of Normality"
   ]
  },
  {
   "cell_type": "code",
   "execution_count": 51,
   "id": "f0545319",
   "metadata": {},
   "outputs": [
    {
     "data": {
      "text/html": [
       "<div>\n",
       "<style scoped>\n",
       "    .dataframe tbody tr th:only-of-type {\n",
       "        vertical-align: middle;\n",
       "    }\n",
       "\n",
       "    .dataframe tbody tr th {\n",
       "        vertical-align: top;\n",
       "    }\n",
       "\n",
       "    .dataframe thead th {\n",
       "        text-align: right;\n",
       "    }\n",
       "</style>\n",
       "<table border=\"1\" class=\"dataframe\">\n",
       "  <thead>\n",
       "    <tr style=\"text-align: right;\">\n",
       "      <th></th>\n",
       "      <th>n</th>\n",
       "      <th>p</th>\n",
       "      <th>test stat</th>\n",
       "      <th>sig</th>\n",
       "    </tr>\n",
       "  </thead>\n",
       "  <tbody>\n",
       "    <tr>\n",
       "      <th>southwest</th>\n",
       "      <td>325.0</td>\n",
       "      <td>6.125298e-23</td>\n",
       "      <td>102.294059</td>\n",
       "      <td>True</td>\n",
       "    </tr>\n",
       "    <tr>\n",
       "      <th>southeast</th>\n",
       "      <td>364.0</td>\n",
       "      <td>4.953297e-15</td>\n",
       "      <td>65.877446</td>\n",
       "      <td>True</td>\n",
       "    </tr>\n",
       "    <tr>\n",
       "      <th>northwest</th>\n",
       "      <td>325.0</td>\n",
       "      <td>5.184209e-24</td>\n",
       "      <td>107.232850</td>\n",
       "      <td>True</td>\n",
       "    </tr>\n",
       "    <tr>\n",
       "      <th>northeast</th>\n",
       "      <td>324.0</td>\n",
       "      <td>1.455431e-19</td>\n",
       "      <td>86.747629</td>\n",
       "      <td>True</td>\n",
       "    </tr>\n",
       "  </tbody>\n",
       "</table>\n",
       "</div>"
      ],
      "text/plain": [
       "               n             p   test stat   sig\n",
       "southwest  325.0  6.125298e-23  102.294059  True\n",
       "southeast  364.0  4.953297e-15   65.877446  True\n",
       "northwest  325.0  5.184209e-24  107.232850  True\n",
       "northeast  324.0  1.455431e-19   86.747629  True"
      ]
     },
     "execution_count": 51,
     "metadata": {},
     "output_type": "execute_result"
    }
   ],
   "source": [
    "## Running normal test on each group and confirming there are >20 in each group\n",
    "norm_results = {}\n",
    "for i, data in groups.items():\n",
    "    stat, p = stats.normaltest(data)\n",
    "    ## save the p val, test statistic, and the size of the group\n",
    "    norm_results[i] = {'n': len(data),\n",
    "                             'p':p,\n",
    "                             'test stat':stat,}\n",
    "## convert to a dataframe\n",
    "norm_results_df = pd.DataFrame(norm_results).T\n",
    "### checking sig with pandas \n",
    "norm_results_df['sig'] = norm_results_df['p'] < .05 \n",
    "norm_results_df"
   ]
  },
  {
   "cell_type": "markdown",
   "id": "dd0ec6bd",
   "metadata": {},
   "source": [
    "Each region has a normal distribution"
   ]
  },
  {
   "cell_type": "markdown",
   "id": "238692c9",
   "metadata": {},
   "source": [
    "# Outliers"
   ]
  },
  {
   "cell_type": "code",
   "execution_count": 52,
   "id": "6af4ee77",
   "metadata": {},
   "outputs": [
    {
     "name": "stdout",
     "output_type": "stream",
     "text": [
      "southwest : 317\n",
      "southeast : 362\n",
      "northwest : 318\n",
      "northeast : 320\n"
     ]
    }
   ],
   "source": [
    "# Drop outliers\n",
    "for x in groups.keys():\n",
    "    group_x = groups[x]\n",
    "    outliers = np.abs(stats.zscore(group_x)) > 3    \n",
    "    groups[x] = group_x[~outliers]\n",
    "    print(x,':',len(groups[x]))"
   ]
  },
  {
   "cell_type": "markdown",
   "id": "19386b83",
   "metadata": {},
   "source": [
    "# Testing Assumption of Equal Variance"
   ]
  },
  {
   "cell_type": "code",
   "execution_count": 53,
   "id": "683dd4fc",
   "metadata": {},
   "outputs": [
    {
     "data": {
      "text/plain": [
       "LeveneResult(statistic=9.518349004554441, pvalue=3.2035503711783993e-06)"
      ]
     },
     "execution_count": 53,
     "metadata": {},
     "output_type": "execute_result"
    }
   ],
   "source": [
    "stats.levene(*groups.values())"
   ]
  },
  {
   "cell_type": "markdown",
   "id": "afa942ce",
   "metadata": {},
   "source": [
    "Did not met the assumption of equal variance. For One-way ANOVA, will use Kruskal-Wallis stats.kruskal"
   ]
  },
  {
   "cell_type": "code",
   "execution_count": 54,
   "id": "1a3fe7de",
   "metadata": {},
   "outputs": [
    {
     "data": {
      "text/plain": [
       "KruskalResult(statistic=6.914045702545643, pvalue=0.07468847911322242)"
      ]
     },
     "execution_count": 54,
     "metadata": {},
     "output_type": "execute_result"
    }
   ],
   "source": [
    "result = stats.kruskal( *groups.values())\n",
    "result"
   ]
  },
  {
   "cell_type": "markdown",
   "id": "52005418",
   "metadata": {},
   "source": [
    "The p-value for Kruskal-Wallis is > alpha of .05. Fail to reject null hypotheses. There is no significant difference between ranges for Insurance rates"
   ]
  },
  {
   "cell_type": "code",
   "execution_count": 55,
   "id": "836a02b4",
   "metadata": {},
   "outputs": [
    {
     "data": {
      "image/png": "[encoded data removed]",
      "text/plain": [
       "<Figure size 432x288 with 1 Axes>"
      ]
     },
     "metadata": {
      "needs_background": "light"
     },
     "output_type": "display_data"
    }
   ],
   "source": [
    "sns.barplot(data=df, x='region',y='charges',hue='region',alpha=.7 ,estimator = np.median)\n",
    "plt.legend(loc='lower right',bbox_to_anchor=(1.35,.5),borderaxespad=0)\n",
    "plt.title(\"Median Insurance rates by region\");"
   ]
  }
 ],
 "metadata": {
  "kernelspec": {
   "display_name": "Python (dojo-env)",
   "language": "python",
   "name": "dojo-env"
  },
  "language_info": {
   "codemirror_mode": {
    "name": "ipython",
    "version": 3
   },
   "file_extension": ".py",
   "mimetype": "text/x-python",
   "name": "python",
   "nbconvert_exporter": "python",
   "pygments_lexer": "ipython3",
   "version": "3.8.13"
  },
  "toc": {
   "base_numbering": 1,
   "nav_menu": {},
   "number_sections": false,
   "sideBar": true,
   "skip_h1_title": false,
   "title_cell": "Table of Contents",
   "title_sidebar": "Contents",
   "toc_cell": false,
   "toc_position": {},
   "toc_section_display": true,
   "toc_window_display": false
  }
 },
 "nbformat": 4,
 "nbformat_minor": 5
}
